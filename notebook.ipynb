{
 "cells": [
  {
   "cell_type": "code",
   "execution_count": 5,
   "metadata": {},
   "outputs": [
    {
     "data": {
      "text/plain": [
       "AIMessage(content='한국과 일본은 지리적으로 많은 차이가 있습니다. 한국은 한반도에 위치하고 있으며, 주요 산맥은 백두산과 태백산맥입니다. 한국은 해안선이 길고, 바다와 산이 어우러져 다양한 지형을 가지고 있습니다. 반면에, 일본은 일본 제도로 구성되어 있으며, 홋카이도, 본도, 신주쿠, 사이쿠 등 여러 섬으로 이루어져 있습니다. 일본은 화산 활동이 활발하고, 일본해와 태평양에 인접해 다양한 기후와 지형을 가지고 있습니다.')"
      ]
     },
     "execution_count": 5,
     "metadata": {},
     "output_type": "execute_result"
    }
   ],
   "source": [
    "# 랭체인의 장점 - 각 모델 API를 알아야 할 피룡도 없고, 모델을 제공하는 기업을 알 필요도 없다. 그냥 import 해서 사용하면 된다. 다른 모든 것과 호환할 수 있다.\n",
    "\n",
    "# from langchain.llms.openai import OpenAI\n",
    "# llm = OpenAI(model_name=\"gpt-3.5-turbo-1106\")\n",
    "# a = llm.predict(\"How many planets are there?\")\n",
    "\n",
    "from langchain.chat_models import ChatOpenAI\n",
    "chat = ChatOpenAI(temperature=0.1)\n",
    "# Pass a single string input to the model and return a string prediction.\n",
    "chat.predict(\"How many planets are there?\")\n",
    "\n",
    "# systemMessage -> LLM 시스템에 설정을 변경하기 위해 말을 거는 것\n",
    "from langchain.schema import HumanMessage, AIMessage, SystemMessage\n",
    "\n",
    "messages = [\n",
    "    SystemMessage(content='you are a geography expert. and you only reply in korean.'),\n",
    "    AIMessage(content='무엇이 궁금하신가요? 저는 지리학 박사입니다!'),\n",
    "    HumanMessage(content='한국과 일본의 지리적 차이에 대해 알려줘.')\n",
    "]\n",
    "# Pass a message sequence to the model and return a message prediction.\n",
    "chat.predict_messages(messages)\n"
   ]
  },
  {
   "cell_type": "code",
   "execution_count": null,
   "metadata": {},
   "outputs": [],
   "source": []
  },
  {
   "cell_type": "code",
   "execution_count": null,
   "metadata": {},
   "outputs": [],
   "source": []
  },
  {
   "cell_type": "code",
   "execution_count": null,
   "metadata": {},
   "outputs": [],
   "source": []
  },
  {
   "cell_type": "code",
   "execution_count": null,
   "metadata": {},
   "outputs": [],
   "source": []
  },
  {
   "cell_type": "code",
   "execution_count": null,
   "metadata": {},
   "outputs": [],
   "source": []
  },
  {
   "cell_type": "code",
   "execution_count": null,
   "metadata": {},
   "outputs": [],
   "source": []
  }
 ],
 "metadata": {
  "kernelspec": {
   "display_name": "env",
   "language": "python",
   "name": "python3"
  },
  "language_info": {
   "codemirror_mode": {
    "name": "ipython",
    "version": 3
   },
   "file_extension": ".py",
   "mimetype": "text/x-python",
   "name": "python",
   "nbconvert_exporter": "python",
   "pygments_lexer": "ipython3",
   "version": "3.11.7"
  }
 },
 "nbformat": 4,
 "nbformat_minor": 2
}
