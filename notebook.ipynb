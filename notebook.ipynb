{
 "cells": [
  {
   "cell_type": "code",
   "execution_count": 15,
   "metadata": {},
   "outputs": [
    {
     "name": "stdout",
     "output_type": "stream",
     "text": [
      "한국과 일본은 지리적으로 매우 다릅니다. 한국은 한반도에 위치하고 있으며, 주요 산맥은 백두산이 있습니다. 한국은 바다로 둘러싸여 있어 해안선이 길고, 섬도 많이 있습니다. 반면에 일본은 일본 제도로 이루어져 있으며, 홋카이도, 본주, 신주쿠, 사이쿠 등 여러 섬으로 구성되어 있습니다. 또한, 일본은 화산 활동이 활발하여 다양한 화산이 있습니다. 이러한 지리적 차이로 인해 한국과 일본은 각자 독특한 자연환경과 문화를 갖고 있습니다."
     ]
    },
    {
     "data": {
      "text/plain": [
       "AIMessageChunk(content='한국과 일본은 지리적으로 매우 다릅니다. 한국은 한반도에 위치하고 있으며, 주요 산맥은 백두산이 있습니다. 한국은 바다로 둘러싸여 있어 해안선이 길고, 섬도 많이 있습니다. 반면에 일본은 일본 제도로 이루어져 있으며, 홋카이도, 본주, 신주쿠, 사이쿠 등 여러 섬으로 구성되어 있습니다. 또한, 일본은 화산 활동이 활발하여 다양한 화산이 있습니다. 이러한 지리적 차이로 인해 한국과 일본은 각자 독특한 자연환경과 문화를 갖고 있습니다.')"
      ]
     },
     "execution_count": 15,
     "metadata": {},
     "output_type": "execute_result"
    }
   ],
   "source": [
    "### Predict Messages\n",
    "from langchain.chat_models import ChatOpenAI\n",
    "from langchain.schema  import HumanMessage, AIMessage, SystemMessage\n",
    "from langchain.callbacks import StreamingStdOutCallbackHandler\n",
    "\n",
    "chat = ChatOpenAI(temperature=0.1, streaming=True, callbacks=[StreamingStdOutCallbackHandler()]) ## call Chat large language models API.\n",
    "\n",
    "messages  = [\n",
    "    SystemMessage(content='you are a geography expert. and you only reply in korean.'),\n",
    "    AIMessage(content='무엇이 궁금하신가요? 저는 지리학 박사입니다!'),\n",
    "    HumanMessage(content='한국과 일본의 지리적 차이에 대해 알려줘.')\n",
    "]\n",
    "\n",
    "# Pass a message sequence to the model and return a message prediction.\n",
    "chat.predict_messages(messages)"
   ]
  },
  {
   "cell_type": "code",
   "execution_count": 16,
   "metadata": {},
   "outputs": [
    {
     "name": "stdout",
     "output_type": "stream",
     "text": [
      "한국과 일본은 지리적으로 많은 차이가 있습니다. \n",
      "\n",
      "먼저, 한국은 한반도의 남쪽에 위치하고 있으며, 북쪽으로는 북한과 중국이 인접해 있습니다. 한국은 산이 많고, 해안선이 길며, 기후는 일반적으로 봄, 여름, 가을, 겨울의 네 계절로 나뉩니다. 또한, 한국은 지진이 발생할 수 있는 지역으로 알려져 있습니다.\n",
      "\n",
      "반면에, 일본은 일본 제도로 이루어진 섬나라로, 주요 섬으로는 홋카이도, 혼슈, 신주쿠, 규슈 등이 있습니다. 일본은 화산 활동이 활발한 지역으로, 많은 화산이 분포하고 있습니다. 또한, 일본은 기후가 다양하며, 북부 지방은 추운 겨울을 경험하고, 남부 지방은 따뜻한 기후를 누릴 수 있습니다.\n",
      "\n",
      "이처럼, 한국과 일본은 지리적으로 다양한 특징을 가지고 있으며, 이러한 차이로 인해 두 나라의 문화, 역사, 자연환경 등이 다르게 발전해 왔습니다.한국과 일본은 두 나라 모두 동아시아 지역에 위치하고 있습니다. 한국은 한반도에 위치하고 있으며, 북쪽으로는 북한과 접하고 남쪽으로는 한국 해협을 사이에 두고 일본과 맞닿아 있습니다. 일본은 일본 제도로 이루어져 있으며, 주요 섬으로는 홋카이도, 혼슈, 신주쿠, 규슈 등이 있습니다. 두 나라는 지형적으로도 다양한 산악 지형과 해안선을 가지고 있으며, 기후적으로도 차이가 있습니다."
     ]
    },
    {
     "data": {
      "text/plain": [
       "AIMessageChunk(content='한국과 일본은 두 나라 모두 동아시아 지역에 위치하고 있습니다. 한국은 한반도에 위치하고 있으며, 북쪽으로는 북한과 접하고 남쪽으로는 한국 해협을 사이에 두고 일본과 맞닿아 있습니다. 일본은 일본 제도로 이루어져 있으며, 주요 섬으로는 홋카이도, 혼슈, 신주쿠, 규슈 등이 있습니다. 두 나라는 지형적으로도 다양한 산악 지형과 해안선을 가지고 있으며, 기후적으로도 차이가 있습니다.')"
      ]
     },
     "execution_count": 16,
     "metadata": {},
     "output_type": "execute_result"
    }
   ],
   "source": [
    "### Prompt Templates\n",
    "from langchain.prompts import PromptTemplate, ChatPromptTemplate \n",
    "\n",
    "# Load a prompt template from a template.\n",
    "template = PromptTemplate.from_template('{country_a}과 {country_b}의 지리적 차이에 대해 알려줘.')\n",
    "\n",
    "prompt = template.format(\n",
    "country_a='korea',\n",
    "country_b='japan')\n",
    "\n",
    "# Pass a single string input to the model and return a string prediction.\n",
    "chat.predict(prompt) \n",
    "\n",
    "# Create a chat prompt template from a variety of message format그냥,, s.\n",
    "template = ChatPromptTemplate.from_messages ([\n",
    "    ('system', 'you are a geography expert. and you only reply in {language}.'),\n",
    "    ('ai', '무엇이 궁금하신가요? 저는 {name}입니다!'),\n",
    "    ('human', '{country_a}과 {country_b}의 지리적 차이에 대해 알려줘.')\n",
    "])\n",
    "\n",
    "prompt = template.format_messages(language=\"korean\", name='배다롱', country_a='한국', country_b='일본')\n",
    "\n",
    "# Pass a message sequence to the model and return a message prediction.\n",
    "chat.predict_messages(prompt) "
   ]
  },
  {
   "cell_type": "code",
   "execution_count": 17,
   "metadata": {},
   "outputs": [
    {
     "data": {
      "text/plain": [
       "['hello', 'how', 'are', 'you?']"
      ]
     },
     "execution_count": 17,
     "metadata": {},
     "output_type": "execute_result"
    }
   ],
   "source": [
    "from langchain.schema import BaseOutputParser\n",
    "\n",
    "# Output parsers help structure language model responses.\n",
    "# My personal output parser\n",
    "class CommaOutputParser(BaseOutputParser):\n",
    "    # Parse a single string model output into some structure.\n",
    "    def parse(self,text): \n",
    "        items= text.strip().split(',')\n",
    "        return list(map(str.strip, items))\n",
    "    \n",
    "    \n",
    "p = CommaOutputParser()\n",
    "p.parse(\"hello, how, are, you?\")    \n",
    "# ['hello', 'how', 'are', 'you?']"
   ]
  },
  {
   "cell_type": "code",
   "execution_count": 18,
   "metadata": {},
   "outputs": [
    {
     "name": "stdout",
     "output_type": "stream",
     "text": [
      "rose, daisy, tulip, sunflower, lily"
     ]
    },
    {
     "data": {
      "text/plain": [
       "['rose', 'daisy', 'tulip', 'sunflower', 'lily']"
      ]
     },
     "execution_count": 18,
     "metadata": {},
     "output_type": "execute_result"
    }
   ],
   "source": [
    "\n",
    "template = ChatPromptTemplate.from_messages([\n",
    "    (\"system\", \"you are a list generating machine. everything you are asked will be answered with a comma separated list of max {max_items} in lowercase. do not reply with anything else.\"),\n",
    "    (\"human\", \"{question}\"),\n",
    "])\n",
    "\n",
    "# general way\n",
    "# prompt = template.format_messages(max_items=10, question = 'what are the colors?')\n",
    "# results = chat.predict_messages(prompt)\n",
    "# p = CommaOutputParser()\n",
    "# p.parse(results.content)\n",
    "\n",
    "# LangChain Expression Language, or LCEL, is a declarative way to easily compose chains together. \n",
    "# RunnableSequence을 사용하여 여러 Runnable을 조합하고 체인을 구성할 수 있습니다. \n",
    "chain = template | chat | CommaOutputParser()\n",
    "chain.invoke({\"max_items\":5, \"question\": \"flowers\"})"
   ]
  },
  {
   "cell_type": "code",
   "execution_count": 19,
   "metadata": {},
   "outputs": [],
   "source": [
    "# Chaining Chains\n",
    "chef_template = ChatPromptTemplate.from_messages([\n",
    "    (\"system\", \"you are a world-class international chef. you create easy to follow recipies for any typeof cuisins with easy to find ingredients.\"),\n",
    "    (\"human\", \"I want to cook {cuision} food.\"),\n",
    "])\n",
    "\n",
    "chef_chain = chef_template | chat "
   ]
  },
  {
   "cell_type": "code",
   "execution_count": 20,
   "metadata": {},
   "outputs": [],
   "source": [
    "veg_chef_template = ChatPromptTemplate.from_messages([\n",
    "    (\"system\", \"You are a vegetarian chef specialized on making traditional recipies vegetarian. You find alternative ingredients and explain their preparation. You don't radically modify the recipe. If there is no alternative for a food just say you don't know how to replace it.\"),\n",
    "    (\"human\", \"{recipe}\"),\n",
    "])\n",
    "\n",
    "veg_chain = veg_chef_template | chat"
   ]
  },
  {
   "cell_type": "code",
   "execution_count": 21,
   "metadata": {},
   "outputs": [
    {
     "name": "stdout",
     "output_type": "stream",
     "text": [
      "Great choice! Here's a simple recipe for Chicken Tikka Masala, a popular Indian dish:\n",
      "\n",
      "Ingredients:\n",
      "- 1 lb boneless, skinless chicken breasts, cut into bite-sized pieces\n",
      "- 1 cup plain yogurt\n",
      "- 2 tablespoons lemon juice\n",
      "- 2 teaspoons ground cumin\n",
      "- 2 teaspoons paprika\n",
      "- 1 teaspoon ground cinnamon\n",
      "- 1 teaspoon ground turmeric\n",
      "- 1 teaspoon ground coriander\n",
      "- 1 teaspoon cayenne pepper (adjust to taste)\n",
      "- Salt and pepper to taste\n",
      "- 2 tablespoons vegetable oil\n",
      "- 1 onion, finely chopped\n",
      "- 3 cloves garlic, minced\n",
      "- 1 tablespoon grated ginger\n",
      "- 1 can (14 oz) tomato sauce\n",
      "- 1 cup heavy cream\n",
      "- Fresh cilantro, chopped (for garnish)\n",
      "\n",
      "Instructions:\n",
      "1. In a bowl, mix together the yogurt, lemon juice, cumin, paprika, cinnamon, turmeric, coriander, cayenne pepper, salt, and pepper. Add the chicken pieces and coat them well with the marinade. Cover and refrigerate for at least 1 hour, or overnight for best results.\n",
      "\n",
      "2. Preheat the oven to 400°F (200°C). Place the marinated chicken pieces on a baking sheet lined with parchment paper. Bake for 20-25 minutes, or until the chicken is cooked through.\n",
      "\n",
      "3. In a large skillet, heat the vegetable oil over medium heat. Add the chopped onion and cook until softened, about 5 minutes. Add the garlic and ginger, and cook for another minute.\n",
      "\n",
      "4. Stir in the tomato sauce and bring to a simmer. Add the baked chicken pieces and simmer for 10 minutes.\n",
      "\n",
      "5. Stir in the heavy cream and cook for an additional 5 minutes, stirring occasionally.\n",
      "\n",
      "6. Taste and adjust seasoning if needed. Serve the Chicken Tikka Masala over rice, garnished with fresh cilantro.\n",
      "\n",
      "Enjoy your homemade Indian feast!To make this Chicken Tikka Masala recipe vegetarian, we can replace the chicken with a suitable alternative. One popular option is to use paneer, a type of Indian cottage cheese that is firm and holds its shape well when cooked. Here's how you can adapt the recipe:\n",
      "\n",
      "Ingredients:\n",
      "- 1 lb paneer, cut into bite-sized pieces\n",
      "- 1 cup plain yogurt\n",
      "- 2 tablespoons lemon juice\n",
      "- 2 teaspoons ground cumin\n",
      "- 2 teaspoons paprika\n",
      "- 1 teaspoon ground cinnamon\n",
      "- 1 teaspoon ground turmeric\n",
      "- 1 teaspoon ground coriander\n",
      "- 1 teaspoon cayenne pepper (adjust to taste)\n",
      "- Salt and pepper to taste\n",
      "- 2 tablespoons vegetable oil\n",
      "- 1 onion, finely chopped\n",
      "- 3 cloves garlic, minced\n",
      "- 1 tablespoon grated ginger\n",
      "- 1 can (14 oz) tomato sauce\n",
      "- 1 cup heavy cream\n",
      "- Fresh cilantro, chopped (for garnish)\n",
      "\n",
      "Instructions:\n",
      "1. Follow the same marinating process as the original recipe, but substitute the chicken with paneer cubes. Coat the paneer well with the marinade and refrigerate as directed.\n",
      "\n",
      "2. Instead of baking the marinated chicken, you can pan-fry or grill the marinated paneer until it gets a slight char on the edges.\n",
      "\n",
      "3. Proceed with the recipe as instructed, replacing the chicken with the cooked paneer. Simmer the paneer in the tomato sauce and spices to allow the flavors to meld together.\n",
      "\n",
      "4. Finally, stir in the heavy cream and cook for an additional 5 minutes to create a creamy sauce with the paneer.\n",
      "\n",
      "5. Adjust the seasoning if needed and serve the Vegetarian Tikka Masala over rice, garnished with fresh cilantro.\n",
      "\n",
      "Enjoy your flavorful vegetarian twist on this classic Indian dish!"
     ]
    },
    {
     "data": {
      "text/plain": [
       "AIMessageChunk(content=\"To make this Chicken Tikka Masala recipe vegetarian, we can replace the chicken with a suitable alternative. One popular option is to use paneer, a type of Indian cottage cheese that is firm and holds its shape well when cooked. Here's how you can adapt the recipe:\\n\\nIngredients:\\n- 1 lb paneer, cut into bite-sized pieces\\n- 1 cup plain yogurt\\n- 2 tablespoons lemon juice\\n- 2 teaspoons ground cumin\\n- 2 teaspoons paprika\\n- 1 teaspoon ground cinnamon\\n- 1 teaspoon ground turmeric\\n- 1 teaspoon ground coriander\\n- 1 teaspoon cayenne pepper (adjust to taste)\\n- Salt and pepper to taste\\n- 2 tablespoons vegetable oil\\n- 1 onion, finely chopped\\n- 3 cloves garlic, minced\\n- 1 tablespoon grated ginger\\n- 1 can (14 oz) tomato sauce\\n- 1 cup heavy cream\\n- Fresh cilantro, chopped (for garnish)\\n\\nInstructions:\\n1. Follow the same marinating process as the original recipe, but substitute the chicken with paneer cubes. Coat the paneer well with the marinade and refrigerate as directed.\\n\\n2. Instead of baking the marinated chicken, you can pan-fry or grill the marinated paneer until it gets a slight char on the edges.\\n\\n3. Proceed with the recipe as instructed, replacing the chicken with the cooked paneer. Simmer the paneer in the tomato sauce and spices to allow the flavors to meld together.\\n\\n4. Finally, stir in the heavy cream and cook for an additional 5 minutes to create a creamy sauce with the paneer.\\n\\n5. Adjust the seasoning if needed and serve the Vegetarian Tikka Masala over rice, garnished with fresh cilantro.\\n\\nEnjoy your flavorful vegetarian twist on this classic Indian dish!\")"
      ]
     },
     "execution_count": 21,
     "metadata": {},
     "output_type": "execute_result"
    }
   ],
   "source": [
    "final_chain = {\"recipe\": chef_chain} | veg_chain\n",
    "final_chain.invoke({'cuision':'indian'})"
   ]
  }
 ],
 "metadata": {
  "kernelspec": {
   "display_name": "env",
   "language": "python",
   "name": "python3"
  },
  "language_info": {
   "codemirror_mode": {
    "name": "ipython",
    "version": 3
   },
   "file_extension": ".py",
   "mimetype": "text/x-python",
   "name": "python",
   "nbconvert_exporter": "python",
   "pygments_lexer": "ipython3",
   "version": "3.11.7"
  }
 },
 "nbformat": 4,
 "nbformat_minor": 2
}
