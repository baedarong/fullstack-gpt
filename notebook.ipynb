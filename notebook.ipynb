{
 "cells": [
  {
   "cell_type": "code",
   "execution_count": 38,
   "metadata": {},
   "outputs": [],
   "source": [
    "### Predict Messages\n",
    "from langchain.chat_models import ChatOpenAI\n",
    "from langchain.schema  import HumanMessage, AIMessage, SystemMessage\n",
    "from langchain.callbacks import StreamingStdOutCallbackHandler\n",
    "\n",
    "chat = ChatOpenAI(temperature=0.1, streaming=True, callbacks=[StreamingStdOutCallbackHandler()]) ## call Chat large language models API.\n",
    "\n",
    "messages  = [\n",
    "    SystemMessage(content='you are a geography expert. and you only reply in korean.'),\n",
    "    AIMessage(content='무엇이 궁금하신가요? 저는 지리학 박사입니다!'),\n",
    "    HumanMessage(content='한국과 일본의 지리적 차이에 대해 알려줘.')\n",
    "]\n",
    "\n",
    "# Pass a message sequence to the model and return a message prediction.\n",
    "# chat.predict_messages(messages)"
   ]
  },
  {
   "cell_type": "code",
   "execution_count": 39,
   "metadata": {},
   "outputs": [],
   "source": [
    "### Prompt Templates\n",
    "from langchain.prompts import PromptTemplate, ChatPromptTemplate \n",
    "\n",
    "# Load a prompt template from a template.\n",
    "template = PromptTemplate.from_template('{country_a}과 {country_b}의 지리적 차이에 대해 알려줘.')\n",
    "\n",
    "prompt = template.format(\n",
    "country_a='korea',\n",
    "country_b='japan')\n",
    "\n",
    "# Pass a single string input to the model and return a string prediction.\n",
    "# chat.predict(prompt) \n",
    "\n",
    "# Create a chat prompt template from a variety of message format그냥,, s.\n",
    "template = ChatPromptTemplate.from_messages ([\n",
    "    ('system', 'you are a geography expert. and you only reply in {language}.'),\n",
    "    ('ai', '무엇이 궁금하신가요? 저는 {name}입니다!'),\n",
    "    ('human', '{country_a}과 {country_b}의 지리적 차이에 대해 알려줘.')\n",
    "])\n",
    "\n",
    "prompt = template.format_messages(language=\"korean\", name='배다롱', country_a='한국', country_b='일본')\n",
    "\n",
    "# Pass a message sequence to the model and return a message prediction.\n",
    "# chat.predict_messages(prompt) "
   ]
  },
  {
   "cell_type": "code",
   "execution_count": 40,
   "metadata": {},
   "outputs": [],
   "source": [
    "from langchain.schema import BaseOutputParser\n",
    "\n",
    "# Output parsers help structure language model responses.\n",
    "# My personal output parser\n",
    "class CommaOutputParser(BaseOutputParser):\n",
    "    # Parse a single string model output into some structure.\n",
    "    def parse(self,text): \n",
    "        items= text.strip().split(',')\n",
    "        return list(map(str.strip, items))\n",
    "    \n",
    "    \n",
    "p = CommaOutputParser()\n",
    "# p.parse(\"hello, how, are, you?\")    \n",
    "# ['hello', 'how', 'are', 'you?']"
   ]
  },
  {
   "cell_type": "code",
   "execution_count": 41,
   "metadata": {},
   "outputs": [],
   "source": [
    "\n",
    "template = ChatPromptTemplate.from_messages([\n",
    "    (\"system\", \"you are a list generating machine. everything you are asked will be answered with a comma separated list of max {max_items} in lowercase. do not reply with anything else.\"),\n",
    "    (\"human\", \"{question}\"),\n",
    "])\n",
    "\n",
    "# general way\n",
    "# prompt = template.format_messages(max_items=10, question = 'what are the colors?')\n",
    "# results = chat.predict_messages(prompt)\n",
    "# p = CommaOutputParser()\n",
    "# p.parse(results.content)\n",
    "\n",
    "# LangChain Expression Language, or LCEL, is a declarative way to easily compose chains together. \n",
    "# RunnableSequence을 사용하여 여러 Runnable을 조합하고 체인을 구성할 수 있습니다. \n",
    "chain = template | chat | CommaOutputParser()\n",
    "# chain.invoke({\"max_items\":5, \"question\": \"flowers\"})"
   ]
  },
  {
   "cell_type": "code",
   "execution_count": 42,
   "metadata": {},
   "outputs": [],
   "source": [
    "# Chaining Chains\n",
    "chef_template = ChatPromptTemplate.from_messages([\n",
    "    (\"system\", \"you are a world-class international chef. you create easy to follow recipies for any typeof cuisins with easy to find ingredients.\"),\n",
    "    (\"human\", \"I want to cook {cuision} food.\"),\n",
    "])\n",
    "\n",
    "chef_chain = chef_template | chat "
   ]
  },
  {
   "cell_type": "code",
   "execution_count": 43,
   "metadata": {},
   "outputs": [],
   "source": [
    "veg_chef_template = ChatPromptTemplate.from_messages([\n",
    "    (\"system\", \"You are a vegetarian chef specialized on making traditional recipies vegetarian. You find alternative ingredients and explain their preparation. You don't radically modify the recipe. If there is no alternative for a food just say you don't know how to replace it.\"),\n",
    "    (\"human\", \"{recipe}\"),\n",
    "])\n",
    "\n",
    "veg_chain = veg_chef_template | chat"
   ]
  },
  {
   "cell_type": "code",
   "execution_count": 44,
   "metadata": {},
   "outputs": [],
   "source": [
    "final_chain = {\"recipe\": chef_chain} | veg_chain\n",
    "# final_chain.invoke({'cuision':'indian'})"
   ]
  },
  {
   "cell_type": "code",
   "execution_count": 47,
   "metadata": {},
   "outputs": [
    {
     "data": {
      "text/plain": [
       "'\\n    Human: What do you know about France?\\n    AI: \\n    Here is what I know:\\n    Capital: Paris\\n    Language: French\\n    Food: Wine and Cheese\\n    Currency: Euro\\n    \\n\\n\\n\\n    Human: What do you know about Italy?\\n    AI: \\n    I know this:\\n    Capital: Rome\\n    Language: Italian\\n    Food: Pizza and Pasta\\n    Currency: Euro\\n    \\n\\n\\n\\n    Human: What do you know about Greece?\\n    AI: \\n    I know this:\\n    Capital: Athens\\n    Language: Greek\\n    Food: Souvlaki and Feta Cheese\\n    Currency: Euro\\n    \\n\\n\\nHuman: What do you know about Korea'"
      ]
     },
     "execution_count": 47,
     "metadata": {},
     "output_type": "execute_result"
    }
   ],
   "source": [
    "from langchain.chat_models import ChatOpenAI\n",
    "from langchain.callbacks import StreamingStdOutCallbackHandler\n",
    "from langchain.prompts import PromptTemplate\n",
    "from langchain.prompts.few_shot import FewShotPromptTemplate \n",
    "\n",
    "chat = ChatOpenAI(temperature=0.1, streaming=True, callbacks=[StreamingStdOutCallbackHandler()])  \n",
    "\n",
    "examples = [\n",
    "    {\n",
    "    \"question\": \"What do you know about France?\",\n",
    "    \"answer\": \"\"\"\n",
    "    Here is what I know:\n",
    "    Capital: Paris\n",
    "    Language: French\n",
    "    Food: Wine and Cheese\n",
    "    Currency: Euro\n",
    "    \"\"\",\n",
    "    },\n",
    "    {\n",
    "    \"question\": \"What do you know about Italy?\",\n",
    "    \"answer\": \"\"\"\n",
    "    I know this:\n",
    "    Capital: Rome\n",
    "    Language: Italian\n",
    "    Food: Pizza and Pasta\n",
    "    Currency: Euro\n",
    "    \"\"\",\n",
    "    },\n",
    "    {\n",
    "    \"question\": \"What do you know about Greece?\",\n",
    "    \"answer\": \"\"\"\n",
    "    I know this:\n",
    "    Capital: Athens\n",
    "    Language: Greek\n",
    "    Food: Souvlaki and Feta Cheese\n",
    "    Currency: Euro\n",
    "    \"\"\",\n",
    "    }\n",
    "]\n",
    "\n",
    "examples_template = \"\"\"\n",
    "    Human: {question}\n",
    "    AI: {answer}\n",
    "\"\"\"\n",
    "\n",
    "example_prompt = PromptTemplate.from_template(examples_template)\n",
    "\n",
    "# Prompt template that contains few shot examples.\n",
    "prompt = FewShotPromptTemplate(example_prompt=example_prompt, examples=examples, suffix=\"Human: What do you know about {country}\", input_variables=[\"country\"])\n",
    "\n",
    "prompt.format(country=\"Korea\") # validation\n",
    "\n"
   ]
  },
  {
   "cell_type": "code",
   "execution_count": null,
   "metadata": {},
   "outputs": [],
   "source": []
  },
  {
   "cell_type": "code",
   "execution_count": null,
   "metadata": {},
   "outputs": [],
   "source": []
  },
  {
   "cell_type": "code",
   "execution_count": null,
   "metadata": {},
   "outputs": [],
   "source": []
  },
  {
   "cell_type": "code",
   "execution_count": null,
   "metadata": {},
   "outputs": [],
   "source": []
  },
  {
   "cell_type": "code",
   "execution_count": null,
   "metadata": {},
   "outputs": [],
   "source": []
  },
  {
   "cell_type": "code",
   "execution_count": null,
   "metadata": {},
   "outputs": [],
   "source": []
  },
  {
   "cell_type": "code",
   "execution_count": null,
   "metadata": {},
   "outputs": [],
   "source": []
  },
  {
   "cell_type": "code",
   "execution_count": null,
   "metadata": {},
   "outputs": [],
   "source": []
  }
 ],
 "metadata": {
  "kernelspec": {
   "display_name": "env",
   "language": "python",
   "name": "python3"
  },
  "language_info": {
   "codemirror_mode": {
    "name": "ipython",
    "version": 3
   },
   "file_extension": ".py",
   "mimetype": "text/x-python",
   "name": "python",
   "nbconvert_exporter": "python",
   "pygments_lexer": "ipython3",
   "version": "3.11.7"
  }
 },
 "nbformat": 4,
 "nbformat_minor": 2
}
